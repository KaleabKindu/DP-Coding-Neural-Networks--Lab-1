{
  "nbformat": 4,
  "nbformat_minor": 0,
  "metadata": {
    "colab": {
      "provenance": [],
      "authorship_tag": "ABX9TyM/hvndVT83ipbGcgyKcuXy",
      "include_colab_link": true
    },
    "kernelspec": {
      "name": "python3",
      "display_name": "Python 3"
    },
    "language_info": {
      "name": "python"
    }
  },
  "cells": [
    {
      "cell_type": "markdown",
      "metadata": {
        "id": "view-in-github",
        "colab_type": "text"
      },
      "source": [
        "<a href=\"https://colab.research.google.com/github/KaleabKindu/DP-Coding-Neural-Networks-Lab/blob/main/DL_Lab_5_Assignment.ipynb\" target=\"_parent\"><img src=\"https://colab.research.google.com/assets/colab-badge.svg\" alt=\"Open In Colab\"/></a>"
      ]
    },
    {
      "cell_type": "code",
      "source": [
        "import numpy as np\n",
        "import torch\n",
        "from sklearn.datasets import load_iris"
      ],
      "metadata": {
        "id": "2XgPAnKr2QDx"
      },
      "execution_count": 36,
      "outputs": []
    },
    {
      "cell_type": "code",
      "source": [
        "class DenseLayer:\n",
        "  # Layer initialization\n",
        "  def __init__(self, n_inputs, n_neurons):\n",
        "    # Initialize weights and biases\n",
        "    self.weights = 0.01 * torch.rand(n_inputs, n_neurons)\n",
        "    self.biases = torch.zeros((1, n_neurons))\n",
        "\n",
        "  # Forward pass\n",
        "  def forward(self, inputs):\n",
        "    # record the inputs\n",
        "    self.inputs = inputs\n",
        "    # Calculate output values from inputs, weights and biases\n",
        "    self.output = torch.matmul(inputs, self.weights) + self.biases\n",
        "\n",
        "  # Backward pass\n",
        "  def backward(self, dvalues):\n",
        "    # Gradients on parameters\n",
        "    self.dweights = torch.dot(self.inputs.T, dvalues)\n",
        "    self.dbiases = torch.sum(dvalues, axis=0, keepdims=True)\n",
        "    # Gradient on values\n",
        "    self.dinputs = torch.dot(dvalues, self.weights.T)"
      ],
      "metadata": {
        "id": "FqoiZ9ilvKGp"
      },
      "execution_count": 37,
      "outputs": []
    },
    {
      "cell_type": "code",
      "source": [
        "class Optimizer_SGD:\n",
        "  # Initialize optimizer - set settings,\n",
        "  def __init__(self, learning_rate=0.01):\n",
        "    self.learning_rate = learning_rate\n",
        "  # Update parameters\n",
        "  def update_params(self, layer):\n",
        "    layer.weights += -self.learning_rate * layer.dweights\n",
        "    layer.biases += -self.learning_rate * layer.dbiases"
      ],
      "metadata": {
        "id": "n8H3nY5IwFqg"
      },
      "execution_count": 38,
      "outputs": []
    },
    {
      "cell_type": "code",
      "source": [
        "class Activation_ReLU:\n",
        "  # Forward pass\n",
        "  def forward(self, inputs):\n",
        "    # Remember input values\n",
        "    self.inputs = inputs\n",
        "    self.output = torch.max(torch.tensor(0),inputs)\n",
        "  # Backward pass\n",
        "  def backward(self, dvalues):\n",
        "    self.dinputs = dvalues\n",
        "    # Zero gradient where input values were negative\n",
        "    self.dinputs[self.inputs <= 0] = 0"
      ],
      "metadata": {
        "id": "ElHkcpB4vO4b"
      },
      "execution_count": 39,
      "outputs": []
    },
    {
      "cell_type": "code",
      "source": [
        "class Activation_Softmax:\n",
        "  # Forward pass\n",
        "  def forward(self, inputs):\n",
        "    # Get unnormalized probabilities\n",
        "    exp_values = torch.exp(inputs - torch.max(inputs, axis=1, keepdim=True).values)\n",
        "    # Normalize them for each sample\n",
        "    probabilities = exp_values / torch.sum(exp_values, axis=1, keepdim=True)\n",
        "    self.output = probabilities\n",
        "  # Backward pass\n",
        "  def backward(self, dvalues):\n",
        "    # Create uninitialized array\n",
        "    self.dinputs = torch.empty_like(dvalues)\n",
        "    # Enumerate outputs and gradients\n",
        "    for index, (single_output, single_dvalues) in enumerate(zip(self.output, dvalues)):\n",
        "      # Flatten output array\n",
        "      single_output = single_output.reshape(-1, 1)\n",
        "      # Calculate Jacobian matrix of the output and\n",
        "      jacobian_matrix = torch.diagflat(single_output) - torch.dot(single_output, single_output.T)\n",
        "    # Calculate sample-wise gradient\n",
        "    # and add it to the array of sample gradients\n",
        "    self.dinputs[index] = torch.dot(jacobian_matrix, single_dvalues)"
      ],
      "metadata": {
        "id": "lnaq0-HuvS2S"
      },
      "execution_count": 40,
      "outputs": []
    },
    {
      "cell_type": "code",
      "execution_count": 41,
      "metadata": {
        "id": "DN1zQqreu9zv"
      },
      "outputs": [],
      "source": [
        "class Loss_CategoricalCrossentropy() :\n",
        "  # Forward pass\n",
        "  def forward(self, y_pred, y_true):\n",
        "    samples = len(y_pred)\n",
        "    # Clip data to prevent division by 0\n",
        "    # Clip both sides to not drag mean towards any value\n",
        "    y_pred_clipped = torch.clip(y_pred, 1e-8, 1 - 1e-8)\n",
        "    # only if categorical labels\n",
        "    if len(y_true.shape) == 1:\n",
        "      correct_confidences = y_pred_clipped[range(samples), y_true]\n",
        "    # Mask values - only for one-hot encoded labels\n",
        "    elif len(y_true.shape) == 2:\n",
        "      correct_confidences = torch.sum(y_pred_clipped * y_true, axis=1)\n",
        "    log_loss = -torch.log(correct_confidences)\n",
        "    data_loss = torch.mean(log_loss)\n",
        "    return data_loss\n",
        "  # Backward pass\n",
        "  def backward(self, dvalues, y_true):\n",
        "    # Number of samples\n",
        "    samples = len(dvalues)\n",
        "    # Number of labels in every sample\n",
        "    # We'll use the first sample to count them\n",
        "    labels = len(dvalues[0])\n",
        "    # If labels are sparse, turn them into one-hot vector\n",
        "    if len(y_true.shape) == 1:\n",
        "      y_true = torch.eye(labels)[y_true]\n",
        "    # Calculate gradient\n",
        "    self.dinputs = -y_true / dvalues\n",
        "    # Normalize gradient\n",
        "    self.dinputs = self.dinputs / samples"
      ]
    },
    {
      "cell_type": "code",
      "source": [
        "class Accuracy():\n",
        "  def calculate(self, y_pred, y_true):\n",
        "    predictions = torch.argmax(y_pred, axis=1)\n",
        "    if len(y_true.shape) == 2:\n",
        "      y_true = torch.argmax(y_true, axis=1)\n",
        "    accuracy = torch.mean((predictions == y_true).float())\n",
        "    return accuracy"
      ],
      "metadata": {
        "id": "QQIXF3_dvBVx"
      },
      "execution_count": 42,
      "outputs": []
    },
    {
      "cell_type": "code",
      "source": [
        "# Convert the NumPy arrays to PyTorch tensors\n",
        "X = torch.rand(4, 2)\n",
        "y = torch.tensor([0, 1 ,0, 1], dtype=torch.int64)"
      ],
      "metadata": {
        "id": "Ymhw7fKV2T8d"
      },
      "execution_count": 57,
      "outputs": []
    },
    {
      "cell_type": "code",
      "source": [
        "dense1 = DenseLayer(2, 2)\n",
        "activation1 = Activation_ReLU()\n",
        "dense2 = DenseLayer(2, 2)\n",
        "activation2 = Activation_Softmax()\n",
        "loss = Loss_CategoricalCrossentropy()\n",
        "optimizer = Optimizer_SGD()"
      ],
      "metadata": {
        "id": "Pqxi6JpM3SM5"
      },
      "execution_count": 58,
      "outputs": []
    },
    {
      "cell_type": "code",
      "source": [
        "epoch = 1\n",
        "\n",
        "for i in range(epoch):\n",
        "  # Forward Propagation\n",
        "  dense1.forward(X)\n",
        "  activation1.forward(dense1.output)\n",
        "  dense2.forward(activation1.output)\n",
        "  activation2.forward(dense2.output)\n",
        "  _loss = loss.forward(activation2.output, y)\n",
        "\n",
        "  # Back Propagation\n",
        "  loss.backward(X, y)\n",
        "  activation2.backward(loss.dinputs)\n",
        "  dense2.backward(activation2.dinputs)\n",
        "  activation1.backward(dense2.dinputs)\n",
        "  dense1.backward(activation1.dinputs)\n",
        "\n",
        "  optimizer.update_params(dense1)\n",
        "  optimizer.update_params(dense2)"
      ],
      "metadata": {
        "id": "yRFgIo3eMEft"
      },
      "execution_count": null,
      "outputs": []
    }
  ]
}