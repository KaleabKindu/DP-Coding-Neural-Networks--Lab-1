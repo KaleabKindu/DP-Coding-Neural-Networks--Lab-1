{
  "nbformat": 4,
  "nbformat_minor": 0,
  "metadata": {
    "colab": {
      "provenance": [],
      "authorship_tag": "ABX9TyN7MmBUSOlQBGGqWKRn/Gxe",
      "include_colab_link": true
    },
    "kernelspec": {
      "name": "python3",
      "display_name": "Python 3"
    },
    "language_info": {
      "name": "python"
    }
  },
  "cells": [
    {
      "cell_type": "markdown",
      "metadata": {
        "id": "view-in-github",
        "colab_type": "text"
      },
      "source": [
        "<a href=\"https://colab.research.google.com/github/KaleabKindu/DP-Coding-Neural-Networks-Lab-2/blob/main/DL%20Coding%20Neural%20Networks%20Part%201.ipynb\" target=\"_parent\"><img src=\"https://colab.research.google.com/assets/colab-badge.svg\" alt=\"Open In Colab\"/></a>"
      ]
    },
    {
      "cell_type": "code",
      "execution_count": 67,
      "metadata": {
        "id": "mM8twWCa7AM5"
      },
      "outputs": [],
      "source": [
        "import torch\n"
      ]
    },
    {
      "cell_type": "code",
      "source": [
        "class DenseLayer:\n",
        "    def __init__(self, n_inputs, n_neurons):\n",
        "        self.weights = torch.rand(n_inputs, n_neurons)\n",
        "        self.bias = torch.rand(n_neurons)\n",
        "        self.output = None\n",
        "\n",
        "    def forward(self, inputs):\n",
        "        self.output = torch.matmul(inputs, self.weights) + self.bias\n",
        "        return self.output"
      ],
      "metadata": {
        "id": "lglJiUql7IEe"
      },
      "execution_count": 68,
      "outputs": []
    },
    {
      "cell_type": "code",
      "source": [
        "# Define the dimensions\n",
        "input_features = 5\n",
        "hidden_layer_sizes = [16, 16, 16]  # Three hidden layers with 3 neurons each\n",
        "output_classes = 5\n",
        "\n",
        "# Create instances of DenseLayer for the hidden layers\n",
        "hidden_layers = []\n",
        "for size in hidden_layer_sizes:\n",
        "    layer = DenseLayer(input_features, size)\n",
        "    hidden_layers.append(layer)\n",
        "    input_features = size  # Update input_features for the next layer\n",
        "\n",
        "# Create the output layer\n",
        "output_layer = DenseLayer(hidden_layer_sizes[-1], output_classes)\n",
        "# Example input data\n",
        "input_data = torch.rand(1, 5)  # 1 sample with 5 input features\n",
        "\n",
        "# Forward pass through the network\n",
        "for layer in hidden_layers:\n",
        "    input_data = layer.forward(input_data)\n",
        "\n",
        "output = output_layer.forward(input_data)\n",
        "\n",
        "# Print the final output\n",
        "print(\"Final Output:\", output)\n"
      ],
      "metadata": {
        "colab": {
          "base_uri": "https://localhost:8080/"
        },
        "id": "R28U2naP7NYh",
        "outputId": "4aa6ccf6-df56-4e12-8f36-ce6d1efe955d"
      },
      "execution_count": 69,
      "outputs": [
        {
          "output_type": "stream",
          "name": "stdout",
          "text": [
            "Final Output: tensor([[1202.0718, 1045.2545,  861.9146, 1003.1550,  913.0624]])\n"
          ]
        }
      ]
    }
  ]
}