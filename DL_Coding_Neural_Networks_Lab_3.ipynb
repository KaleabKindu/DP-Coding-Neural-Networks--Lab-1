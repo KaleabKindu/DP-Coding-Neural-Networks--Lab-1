{
  "nbformat": 4,
  "nbformat_minor": 0,
  "metadata": {
    "colab": {
      "provenance": [],
      "authorship_tag": "ABX9TyOjwMKTpmYUY63YQkrXAlns",
      "include_colab_link": true
    },
    "kernelspec": {
      "name": "python3",
      "display_name": "Python 3"
    },
    "language_info": {
      "name": "python"
    }
  },
  "cells": [
    {
      "cell_type": "markdown",
      "metadata": {
        "id": "view-in-github",
        "colab_type": "text"
      },
      "source": [
        "<a href=\"https://colab.research.google.com/github/KaleabKindu/DP-Coding-Neural-Networks-Lab/blob/main/DL_Coding_Neural_Networks_Lab_3.ipynb\" target=\"_parent\"><img src=\"https://colab.research.google.com/assets/colab-badge.svg\" alt=\"Open In Colab\"/></a>"
      ]
    },
    {
      "cell_type": "code",
      "execution_count": 61,
      "metadata": {
        "id": "mM8twWCa7AM5"
      },
      "outputs": [],
      "source": [
        "import torch\n"
      ]
    },
    {
      "cell_type": "code",
      "source": [
        "\n",
        "class Loss_CategoricalCrossentropy() :\n",
        "  def forward(self, y_pred, y_true):\n",
        "    loss = -torch.sum(y_true * torch.log(y_pred + 1e-10), dim=-1)\n",
        "    loss = torch.mean(loss)\n",
        "    return loss\n",
        "\n",
        "class DenseLayer:\n",
        "    def __init__(self, n_inputs, n_neurons):\n",
        "        self.weights = torch.rand(n_inputs, n_neurons)\n",
        "        self.bias = torch.rand(n_neurons)\n",
        "        self.output = None\n",
        "\n",
        "    def sigmoid(self, x):\n",
        "      return 1 / (1 + torch.exp(-x))\n",
        "\n",
        "    def softmax(self, x):\n",
        "      exp_x = torch.exp(x - torch.max(x, dim=1, keepdim=True)[0])\n",
        "      return exp_x / torch.sum(exp_x, dim=1, keepdim=True)\n",
        "\n",
        "    def relu(self, x):\n",
        "      return torch.max(torch.zeros_like(x), x)\n",
        "\n",
        "    def forward(self, inputs, activation_function):\n",
        "        self.output = torch.matmul(inputs, self.weights) + self.bias\n",
        "\n",
        "        if activation_function == 'sigmoid':\n",
        "          return self.sigmoid(self.output)\n",
        "        elif activation_function == 'relu':\n",
        "          return self.relu(self.output)\n",
        "        elif activation_function == 'softmax':\n",
        "          return self.softmax(self.output)\n",
        "\n",
        "        return self.output"
      ],
      "metadata": {
        "id": "lglJiUql7IEe"
      },
      "execution_count": 62,
      "outputs": []
    },
    {
      "cell_type": "code",
      "source": [
        "input_features = 4\n",
        "hidden_layer_sizes = [18, 18, 18]\n",
        "output_classes = 3\n",
        "\n",
        "hidden_layers = []\n",
        "for size in hidden_layer_sizes:\n",
        "    layer = DenseLayer(input_features, size)\n",
        "    hidden_layers.append(layer)\n",
        "    input_features = size\n",
        "\n",
        "output_layer = DenseLayer(hidden_layer_sizes[-1], output_classes)"
      ],
      "metadata": {
        "id": "R28U2naP7NYh"
      },
      "execution_count": 63,
      "outputs": []
    },
    {
      "cell_type": "code",
      "source": [
        "# using sigmoid activation function for the hidden layers\n",
        "\n",
        "input_data = torch.rand(1, 4)\n",
        "\n",
        "for layer in hidden_layers:\n",
        "    input_data = layer.forward(input_data, 'sigmoid')\n",
        "\n",
        "output = output_layer.forward(input_data, 'softmax')\n",
        "target = torch.tensor([0, 1, 0])\n",
        "\n",
        "loss = Loss_CategoricalCrossentropy()\n",
        "pred_labels = torch.argmax(output,axis=1)\n",
        "actual_loss = loss.forward(output, target)\n",
        "accuracy = torch.eq(pred_labels, target)\n",
        "\n",
        "print(\"Final Output:\", output)\n",
        "print(\"Categorical Loss:\", actual_loss)\n",
        "print(\"Accuracy:\", accuracy)"
      ],
      "metadata": {
        "colab": {
          "base_uri": "https://localhost:8080/"
        },
        "id": "9Cu_iVUPAokf",
        "outputId": "c8456bb6-80bd-4a06-d97a-f4477facb8d2"
      },
      "execution_count": 64,
      "outputs": [
        {
          "output_type": "stream",
          "name": "stdout",
          "text": [
            "Final Output: tensor([[0.4814, 0.3184, 0.2002]])\n",
            "Categorical Loss: tensor(1.1444)\n",
            "Accuracy: tensor([ True, False,  True])\n"
          ]
        }
      ]
    },
    {
      "cell_type": "code",
      "source": [
        "# using relu activation function for the hidden layers\n",
        "\n",
        "input_data = torch.rand(1, 4)\n",
        "\n",
        "for layer in hidden_layers:\n",
        "    input_data = layer.forward(input_data, 'relu')\n",
        "\n",
        "output = output_layer.forward(input_data, 'softmax')\n",
        "target = torch.tensor([0, 1, 0])\n",
        "\n",
        "categoricalLoss = Loss_CategoricalCrossentropy()\n",
        "pred_labels = torch.argmax(output,axis=1)\n",
        "loss = categoricalLoss.forward(output, target)\n",
        "accuracy = torch.eq(pred_labels, target)\n",
        "\n",
        "print(\"Final Output:\", output)\n",
        "print(\"Categorical Loss:\", actual_loss)\n",
        "print(\"Accuracy:\", accuracy)"
      ],
      "metadata": {
        "colab": {
          "base_uri": "https://localhost:8080/"
        },
        "id": "d-LtQrHnU792",
        "outputId": "f037bc42-95b7-447b-ae04-620259fd16d9"
      },
      "execution_count": 65,
      "outputs": [
        {
          "output_type": "stream",
          "name": "stdout",
          "text": [
            "Final Output: tensor([[0.1553, 0.8447, 0.0000]])\n",
            "Categorical Loss: tensor(1.1444)\n",
            "Accuracy: tensor([False,  True, False])\n"
          ]
        }
      ]
    },
    {
      "cell_type": "markdown",
      "source": [],
      "metadata": {
        "id": "-JE9a36PU5j6"
      }
    }
  ]
}